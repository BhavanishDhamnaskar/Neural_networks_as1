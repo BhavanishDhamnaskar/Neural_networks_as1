import numpy as np
import tensorflow as tf
from tensorflow.keras.datasets import mnist

# Define the Perceptron class with vectorized operations
class Perceptron:
    def __init__(self, input_size, learning_rate=0.01):  # Corrected __init__ method
        self.weights = np.random.randn(input_size, 1) * 0.01
        self.bias = 0.01
        self.learning_rate = learning_rate

    def sigmoid(self, x):
        return 1 / (1 + np.exp(-x))

    def forward(self, x):
        z = np.dot(x, self.weights) + self.bias
        return self.sigmoid(z)

    def train(self, x, y, epochs=100, learning_rate=0.001):
        y = y.reshape(-1, 1)  # Ensure y is correctly shaped for training
        for epoch in range(epochs):
            output = self.forward(x)
            error = y - output
            self.weights += learning_rate * np.dot(x.T, error * output * (1 - output))
            self.bias += learning_rate * np.sum(error * output * (1 - output))

    def predict(self, x):
        return self.forward(x)

        
def load_and_preprocess_data():
    # Load the MNIST dataset
    (train_images, train_labels), (test_images, test_labels) = mnist.load_data()

    train_images_with_channel = tf.expand_dims(train_images, -1)
    test_images_with_channel = tf.expand_dims(test_images, -1)
    
    # Resize images to 20x20 and normalize
    train_images_resized = tf.image.resize(train_images_with_channel, [20, 20]).numpy() / 255.0
    test_images_resized = tf.image.resize(test_images_with_channel, [20, 20]).numpy() / 255.0
    print(train_images_resized.shape) 
    print(test_images_resized.shape)
    # Reshape images to flatten them into vectors of size 400 (20*20)
    x_train = train_images_resized.reshape(-1, 20*20)  # Reshape to (-1, 400)
    x_test = test_images_resized.reshape(-1, 20*20)    # Reshape to (-1, 400)
    print(x_train.shape) 
    print(x_test.shape)
    
    return x_train, train_labels, x_test, test_labels

x_train, train_labels, x_test, test_labels = load_and_preprocess_data()   

# Convert labels to binary: '0' vs. others
y_train_binary = (train_labels == 0).astype(int)
y_test_binary = (test_labels == 0).astype(int)

# Initialize and train the Perceptron
perceptron = Perceptron(400, learning_rate=0.001)  # Adjusted learning rate
perceptron.train(x_train, y_train_binary, epochs=100)  # Adjusted number of epochs

# Test the model and calculate accuracy
raw_predictions = perceptron.predict(x_test)
y_test_pred = (raw_predictions > 0.5).astype(int)  # Vectorized thresholding

# Calculate and print test accuracy
accuracy = np.mean(y_test_pred.flatten() == y_test_binary)
print(f"Test Accuracy: {accuracy}")
